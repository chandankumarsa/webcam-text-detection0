{
 "cells": [
  {
   "cell_type": "code",
   "execution_count": 1,
   "id": "2375f388",
   "metadata": {},
   "outputs": [
    {
     "name": "stdout",
     "output_type": "stream",
     "text": [
      "Requirement already satisfied: pytesseract in c:\\users\\91784\\anaconda3\\lib\\site-packages (0.3.10)\n",
      "Requirement already satisfied: packaging>=21.3 in c:\\users\\91784\\anaconda3\\lib\\site-packages (from pytesseract) (21.3)\n",
      "Requirement already satisfied: Pillow>=8.0.0 in c:\\users\\91784\\anaconda3\\lib\\site-packages (from pytesseract) (9.0.1)\n",
      "Requirement already satisfied: pyparsing!=3.0.5,>=2.0.2 in c:\\users\\91784\\anaconda3\\lib\\site-packages (from packaging>=21.3->pytesseract) (3.0.4)\n",
      "Note: you may need to restart the kernel to use updated packages.\n"
     ]
    }
   ],
   "source": [
    "pip install pytesseract"
   ]
  },
  {
   "cell_type": "code",
   "execution_count": 2,
   "id": "a8ab9833",
   "metadata": {},
   "outputs": [
    {
     "name": "stdout",
     "output_type": "stream",
     "text": [
      "<module 'pytesseract' from 'C:\\\\Users\\\\91784\\\\anaconda3\\\\lib\\\\site-packages\\\\pytesseract\\\\__init__.py'>\n"
     ]
    }
   ],
   "source": [
    "import pytesseract\n",
    "\n",
    "print(pytesseract)"
   ]
  },
  {
   "cell_type": "code",
   "execution_count": 3,
   "id": "d1a39869",
   "metadata": {},
   "outputs": [
    {
     "name": "stdout",
     "output_type": "stream",
     "text": [
      "Requirement already satisfied: numpy in c:\\users\\91784\\anaconda3\\lib\\site-packages (1.21.5)\n",
      "Requirement already satisfied: matplotlib in c:\\users\\91784\\anaconda3\\lib\\site-packages (3.5.1)\n",
      "Requirement already satisfied: opencv-python in c:\\users\\91784\\anaconda3\\lib\\site-packages (4.5.5.64)\n",
      "Requirement already satisfied: pillow in c:\\users\\91784\\anaconda3\\lib\\site-packages (9.0.1)\n",
      "Requirement already satisfied: fonttools>=4.22.0 in c:\\users\\91784\\anaconda3\\lib\\site-packages (from matplotlib) (4.25.0)\n",
      "Requirement already satisfied: kiwisolver>=1.0.1 in c:\\users\\91784\\anaconda3\\lib\\site-packages (from matplotlib) (1.3.2)\n",
      "Requirement already satisfied: cycler>=0.10 in c:\\users\\91784\\anaconda3\\lib\\site-packages (from matplotlib) (0.11.0)\n",
      "Requirement already satisfied: python-dateutil>=2.7 in c:\\users\\91784\\anaconda3\\lib\\site-packages (from matplotlib) (2.8.2)\n",
      "Requirement already satisfied: pyparsing>=2.2.1 in c:\\users\\91784\\anaconda3\\lib\\site-packages (from matplotlib) (3.0.4)\n",
      "Requirement already satisfied: packaging>=20.0 in c:\\users\\91784\\anaconda3\\lib\\site-packages (from matplotlib) (21.3)\n",
      "Requirement already satisfied: six>=1.5 in c:\\users\\91784\\anaconda3\\lib\\site-packages (from python-dateutil>=2.7->matplotlib) (1.16.0)\n",
      "Note: you may need to restart the kernel to use updated packages.\n"
     ]
    }
   ],
   "source": [
    "pip install numpy matplotlib opencv-python pillow"
   ]
  },
  {
   "cell_type": "code",
   "execution_count": 4,
   "id": "1157b965",
   "metadata": {},
   "outputs": [],
   "source": [
    "import pytesseract\n",
    "import cv2\n",
    "import matplotlib.pyplot as plt\n",
    "from PIL import Image"
   ]
  },
  {
   "cell_type": "code",
   "execution_count": 5,
   "id": "911baa1a",
   "metadata": {},
   "outputs": [],
   "source": [
    "# read the image using OpenCV\n",
    "image = cv2.imread(\"kumar.png\")\n",
    "# or you can use Pillow\n",
    "# image = Image.open(\"test.png\")"
   ]
  },
  {
   "cell_type": "code",
   "execution_count": 6,
   "id": "ac3c30f7",
   "metadata": {},
   "outputs": [],
   "source": [
    "pytesseract.pytesseract.tesseract_cmd = 'C:/Program Files/Tesseract-OCR/tesseract.exe'"
   ]
  },
  {
   "cell_type": "code",
   "execution_count": 7,
   "id": "760a3428",
   "metadata": {},
   "outputs": [
    {
     "name": "stdout",
     "output_type": "stream",
     "text": [
      "SINo. | Registration No. Name Sem | Subject Code\n",
      "1 |201704210001 ‘SRABANI BEHURA sem4 | cUTM1770\n",
      "2 |201704210002 ‘AYANPARIA sem4 | cuTM1770\n",
      "3 | 201704210003 PURBASHA BHAKTA sem4 | cUTM1770\n",
      "4 — |201704210006 ‘ADYASMITA ACHARYA sem4 | cUTM1770\n",
      "5 | 201704210008 MADHUSMITA DAS Sem4 | cuTM1770\n",
      "\n",
      "\n"
     ]
    }
   ],
   "source": [
    "# get the string\n",
    "string = pytesseract.image_to_string(image)\n",
    "# print it\n",
    "print(string)"
   ]
  },
  {
   "cell_type": "code",
   "execution_count": null,
   "id": "ea8c53ef",
   "metadata": {},
   "outputs": [],
   "source": []
  }
 ],
 "metadata": {
  "kernelspec": {
   "display_name": "Python 3 (ipykernel)",
   "language": "python",
   "name": "python3"
  },
  "language_info": {
   "codemirror_mode": {
    "name": "ipython",
    "version": 3
   },
   "file_extension": ".py",
   "mimetype": "text/x-python",
   "name": "python",
   "nbconvert_exporter": "python",
   "pygments_lexer": "ipython3",
   "version": "3.9.12"
  }
 },
 "nbformat": 4,
 "nbformat_minor": 5
}
